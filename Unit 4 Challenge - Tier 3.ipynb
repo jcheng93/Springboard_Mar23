{
 "cells": [
  {
   "cell_type": "markdown",
   "metadata": {
    "colab_type": "text",
    "id": "Tia3MP1SJpgj"
   },
   "source": [
    "# Springboard Data Science Career Track Unit 4 Challenge - Tier 3 Complete\n",
    "\n",
    "## Objectives\n",
    "Hey! Great job getting through those challenging DataCamp courses. You're learning a lot in a short span of time. \n",
    "\n",
    "In this notebook, you're going to apply the skills you've been learning, bridging the gap between the controlled environment of DataCamp and the *slightly* messier work that data scientists do with actual datasets!\n",
    "\n",
    "Here’s the mystery we’re going to solve: ***which boroughs of London have seen the greatest increase in housing prices, on average, over the last two decades?***\n",
    "\n",
    "\n",
    "A borough is just a fancy word for district. You may be familiar with the five boroughs of New York… well, there are 32 boroughs within Greater London [(here's some info for the curious)](https://en.wikipedia.org/wiki/London_boroughs). Some of them are more desirable areas to live in, and the data will reflect that with a greater rise in housing prices.\n",
    "\n",
    "***This is the Tier 3 notebook, which means it's not filled in at all: we'll just give you the skeleton of a project, the brief and the data. It's up to you to play around with it and see what you can find out! Good luck! If you struggle, feel free to look at easier tiers for help; but try to dip in and out of them, as the more independent work you do, the better it is for your learning!***\n",
    "\n",
    "This challenge will make use of only what you learned in the following DataCamp courses: \n",
    "- Prework courses (Introduction to Python for Data Science, Intermediate Python for Data Science)\n",
    "- Data Types for Data Science\n",
    "- Python Data Science Toolbox (Part One) \n",
    "- pandas Foundations\n",
    "- Manipulating DataFrames with pandas\n",
    "- Merging DataFrames with pandas\n",
    "\n",
    "Of the tools, techniques and concepts in the above DataCamp courses, this challenge should require the application of the following: \n",
    "- **pandas**\n",
    "    - **data ingestion and inspection** (pandas Foundations, Module One) \n",
    "    - **exploratory data analysis** (pandas Foundations, Module Two)\n",
    "    - **tidying and cleaning** (Manipulating DataFrames with pandas, Module Three) \n",
    "    - **transforming DataFrames** (Manipulating DataFrames with pandas, Module One)\n",
    "    - **subsetting DataFrames with lists** (Manipulating DataFrames with pandas, Module One) \n",
    "    - **filtering DataFrames** (Manipulating DataFrames with pandas, Module One) \n",
    "    - **grouping data** (Manipulating DataFrames with pandas, Module Four) \n",
    "    - **melting data** (Manipulating DataFrames with pandas, Module Three) \n",
    "    - **advanced indexing** (Manipulating DataFrames with pandas, Module Four) \n",
    "- **matplotlib** (Intermediate Python for Data Science, Module One)\n",
    "- **fundamental data types** (Data Types for Data Science, Module One) \n",
    "- **dictionaries** (Intermediate Python for Data Science, Module Two)\n",
    "- **handling dates and times** (Data Types for Data Science, Module Four)\n",
    "- **function definition** (Python Data Science Toolbox - Part One, Module One)\n",
    "- **default arguments, variable length, and scope** (Python Data Science Toolbox - Part One, Module Two) \n",
    "- **lambda functions and error handling** (Python Data Science Toolbox - Part One, Module Four) "
   ]
  },
  {
   "cell_type": "markdown",
   "metadata": {
    "colab_type": "text",
    "id": "Ipgd2nV8Jpgl"
   },
   "source": [
    "## The Data Science Pipeline\n",
    "\n",
    "This is Tier Three, so we'll get you started. But after that, it's all in your hands! When you feel done with your investigations, look back over what you've accomplished, and prepare a quick presentation of your findings for the next mentor meeting. \n",
    "\n",
    "Data Science is magical. In this case study, you'll get to apply some complex machine learning algorithms. But as  [David Spiegelhalter](https://www.youtube.com/watch?v=oUs1uvsz0Ok) reminds us, there is no substitute for simply **taking a really, really good look at the data.** Sometimes, this is all we need to answer our question.\n",
    "\n",
    "Data Science projects generally adhere to the four stages of Data Science Pipeline:\n",
    "1. Sourcing and loading \n",
    "2. Cleaning, transforming, and visualizing \n",
    "3. Modeling \n",
    "4. Evaluating and concluding \n"
   ]
  },
  {
   "cell_type": "markdown",
   "metadata": {
    "colab_type": "text",
    "id": "zswDqbefJpgm"
   },
   "source": [
    "### 1. Sourcing and Loading \n",
    "\n",
    "Any Data Science project kicks off by importing  ***pandas***. The documentation of this wonderful library can be found [here](https://pandas.pydata.org/). As you've seen, pandas is conveniently connected to the [Numpy](http://www.numpy.org/) and [Matplotlib](https://matplotlib.org/) libraries. \n",
    "\n",
    "***Hint:*** This part of the data science pipeline will test those skills you acquired in the pandas Foundations course, Module One. "
   ]
  },
  {
   "cell_type": "markdown",
   "metadata": {
    "colab_type": "text",
    "id": "aEau5nEvJpgm"
   },
   "source": [
    "#### 1.1. Importing Libraries"
   ]
  },
  {
   "cell_type": "code",
   "execution_count": 97,
   "metadata": {
    "colab": {},
    "colab_type": "code",
    "id": "7Bt_Q_oPJpgn"
   },
   "outputs": [],
   "source": [
    "# Let's import the pandas, numpy libraries as pd, and np respectively. \n",
    "import pandas as pd\n",
    "import numpy as np\n",
    "\n",
    "# Load the pyplot collection of functions from matplotlib, as plt \n",
    "from matplotlib import pyplot as plt"
   ]
  },
  {
   "cell_type": "markdown",
   "metadata": {
    "colab_type": "text",
    "id": "koUrawxsJpgq"
   },
   "source": [
    "#### 1.2.  Loading the data\n",
    "Your data comes from the [London Datastore](https://data.london.gov.uk/): a free, open-source data-sharing portal for London-oriented datasets. "
   ]
  },
  {
   "cell_type": "code",
   "execution_count": 103,
   "metadata": {
    "colab": {},
    "colab_type": "code",
    "id": "AiLiD4v3Jpgr",
    "scrolled": true
   },
   "outputs": [],
   "source": [
    "# First, make a variable called url_LondonHousePrices, and assign it the following link, enclosed in quotation-marks as a string:\n",
    "# https://data.london.gov.uk/download/uk-house-price-index/70ac0766-8902-4eb5-aab5-01951aaed773/UK%20House%20price%20index.xls\n",
    "\n",
    "url_LondonHousePrices = \"https://data.london.gov.uk/download/uk-house-price-index/70ac0766-8902-4eb5-aab5-01951aaed773/UK%20House%20price%20index.xls\"\n",
    "\n",
    "# The dataset we're interested in contains the Average prices of the houses, and is actually on a particular sheet of the Excel file. \n",
    "# As a result, we need to specify the sheet name in the read_excel() method.\n",
    "# Put this data into a variable called properties.  \n",
    "properties = pd.read_excel(url_LondonHousePrices, sheet_name='Average price', index_col= None)"
   ]
  },
  {
   "cell_type": "markdown",
   "metadata": {
    "colab_type": "text",
    "id": "POukEJXgJpgu"
   },
   "source": [
    "### 2. Cleaning, transforming, and visualizing\n",
    "This second stage is arguably the most important part of any Data Science project. The first thing to do is take a proper look at the data. Cleaning forms the majority of this stage, and can be done both before or after Transformation.\n",
    "\n",
    "The end goal of data cleaning is to have tidy data. When data is tidy: \n",
    "\n",
    "1. Each variable has a column.\n",
    "2. Each observation forms a row.\n",
    "\n",
    "Keep the end goal in mind as you move through this process, every step will take you closer. \n",
    "\n",
    "\n",
    "\n",
    "***Hint:*** This part of the data science pipeline should test those skills you acquired in: \n",
    "- Intermediate Python for data science, all modules.\n",
    "- pandas Foundations, all modules. \n",
    "- Manipulating DataFrames with pandas, all modules.\n",
    "- Data Types for Data Science, Module Four.\n",
    "- Python Data Science Toolbox - Part One, all modules"
   ]
  },
  {
   "cell_type": "markdown",
   "metadata": {
    "colab_type": "text",
    "id": "Te0Q548tnzZa"
   },
   "source": [
    "**2.1. Exploring your data** \n",
    "\n",
    "Think about your pandas functions for checking out a dataframe. "
   ]
  },
  {
   "cell_type": "code",
   "execution_count": 109,
   "metadata": {
    "colab": {},
    "colab_type": "code",
    "id": "Rxirxw_qoAJa"
   },
   "outputs": [
    {
     "name": "stdout",
     "output_type": "stream",
     "text": [
      "  Unnamed: 0 City of London Barking & Dagenham       Barnet       Bexley  \\\n",
      "0        NaT      E09000001          E09000002    E09000003    E09000004   \n",
      "1 1995-01-01    91448.98487         50460.2266  93284.51832  64958.09036   \n",
      "2 1995-02-01    82202.77314        51085.77983  93190.16963  64787.92069   \n",
      "3 1995-03-01    79120.70256        51268.96956  92247.52435  64367.49344   \n",
      "4 1995-04-01    77101.20804        53133.50526  90762.87492  64277.66881   \n",
      "\n",
      "         Brent      Bromley       Camden      Croydon       Ealing  ...  \\\n",
      "0    E09000005    E09000006    E09000007    E09000008    E09000009  ...   \n",
      "1  71306.56698  81671.47692  120932.8881  69158.16225  79885.89069  ...   \n",
      "2  72022.26197  81657.55944  119508.8622  68951.09542  80897.06551  ...   \n",
      "3  72015.76274  81449.31143  120282.2131  68712.44341  81379.86288  ...   \n",
      "4  72965.63094  81124.41227   120097.899  68610.04641  82188.90498  ...   \n",
      "\n",
      "    NORTH WEST YORKS & THE HUMBER EAST MIDLANDS WEST MIDLANDS EAST OF ENGLAND  \\\n",
      "0    E12000002          E12000003     E12000004     E12000005       E12000006   \n",
      "1  43958.48001        44803.42878   45544.52227   48527.52339      56701.5961   \n",
      "2  43925.42289        44528.80721   46051.57066   49341.29029     56593.59475   \n",
      "3   44434.8681        45200.46775   45383.82395   49442.17973     56171.18278   \n",
      "4   44267.7796        45614.34341   46124.23045   49455.93299     56567.89582   \n",
      "\n",
      "        LONDON   SOUTH EAST   SOUTH WEST Unnamed: 47      England  \n",
      "0    E12000007    E12000008    E12000009         NaN    E92000001  \n",
      "1  74435.76052  64018.87894   54705.1579         NaN  53202.77128  \n",
      "2  72777.93709  63715.02399  54356.14843         NaN   53096.1549  \n",
      "3  73896.84204  64113.60858  53583.07667         NaN   53201.2843  \n",
      "4  74455.28754  64623.22395  54786.01938         NaN   53590.8548  \n",
      "\n",
      "[5 rows x 49 columns]\n",
      "<class 'pandas.core.frame.DataFrame'>\n",
      "RangeIndex: 338 entries, 0 to 337\n",
      "Data columns (total 49 columns):\n",
      " #   Column                Non-Null Count  Dtype         \n",
      "---  ------                --------------  -----         \n",
      " 0   Unnamed: 0            337 non-null    datetime64[ns]\n",
      " 1   City of London        338 non-null    object        \n",
      " 2   Barking & Dagenham    338 non-null    object        \n",
      " 3   Barnet                338 non-null    object        \n",
      " 4   Bexley                338 non-null    object        \n",
      " 5   Brent                 338 non-null    object        \n",
      " 6   Bromley               338 non-null    object        \n",
      " 7   Camden                338 non-null    object        \n",
      " 8   Croydon               338 non-null    object        \n",
      " 9   Ealing                338 non-null    object        \n",
      " 10  Enfield               338 non-null    object        \n",
      " 11  Greenwich             338 non-null    object        \n",
      " 12  Hackney               338 non-null    object        \n",
      " 13  Hammersmith & Fulham  338 non-null    object        \n",
      " 14  Haringey              338 non-null    object        \n",
      " 15  Harrow                338 non-null    object        \n",
      " 16  Havering              338 non-null    object        \n",
      " 17  Hillingdon            338 non-null    object        \n",
      " 18  Hounslow              338 non-null    object        \n",
      " 19  Islington             338 non-null    object        \n",
      " 20  Kensington & Chelsea  338 non-null    object        \n",
      " 21  Kingston upon Thames  338 non-null    object        \n",
      " 22  Lambeth               338 non-null    object        \n",
      " 23  Lewisham              338 non-null    object        \n",
      " 24  Merton                338 non-null    object        \n",
      " 25  Newham                338 non-null    object        \n",
      " 26  Redbridge             338 non-null    object        \n",
      " 27  Richmond upon Thames  338 non-null    object        \n",
      " 28  Southwark             338 non-null    object        \n",
      " 29  Sutton                338 non-null    object        \n",
      " 30  Tower Hamlets         338 non-null    object        \n",
      " 31  Waltham Forest        338 non-null    object        \n",
      " 32  Wandsworth            338 non-null    object        \n",
      " 33  Westminster           338 non-null    object        \n",
      " 34  Unnamed: 34           0 non-null      float64       \n",
      " 35  Inner London          338 non-null    object        \n",
      " 36  Outer London          338 non-null    object        \n",
      " 37  Unnamed: 37           0 non-null      float64       \n",
      " 38  NORTH EAST            338 non-null    object        \n",
      " 39  NORTH WEST            338 non-null    object        \n",
      " 40  YORKS & THE HUMBER    338 non-null    object        \n",
      " 41  EAST MIDLANDS         338 non-null    object        \n",
      " 42  WEST MIDLANDS         338 non-null    object        \n",
      " 43  EAST OF ENGLAND       338 non-null    object        \n",
      " 44  LONDON                338 non-null    object        \n",
      " 45  SOUTH EAST            338 non-null    object        \n",
      " 46  SOUTH WEST            338 non-null    object        \n",
      " 47  Unnamed: 47           0 non-null      float64       \n",
      " 48  England               338 non-null    object        \n",
      "dtypes: datetime64[ns](1), float64(3), object(45)\n",
      "memory usage: 129.5+ KB\n"
     ]
    }
   ],
   "source": [
    "print(properties.head())\n",
    "properties.info()\n"
   ]
  },
  {
   "cell_type": "markdown",
   "metadata": {
    "colab_type": "text",
    "id": "tE9Sqt9-oAta"
   },
   "source": [
    "**2.2. Cleaning the data**\n",
    "\n",
    "You might find you need to transpose your dataframe, check out what its row indexes are, and reset the index. You  also might find you need to assign the values of the first row to your column headings  . (Hint: recall the .columns feature of DataFrames, as well as the iloc[] method).\n",
    "\n",
    "Don't be afraid to use StackOverflow for help  with this."
   ]
  },
  {
   "cell_type": "code",
   "execution_count": 111,
   "metadata": {
    "colab": {},
    "colab_type": "code",
    "id": "cdAu1A3YoH_r",
    "scrolled": true
   },
   "outputs": [],
   "source": [
    "properties_T = properties.transpose()\n",
    "properties_T = properties_T.reset_index()\n",
    "properties_T.columns = properties_T.iloc[0]\n",
    "'''Remove first row from properties_T'''\n",
    "properties_S = properties_T.drop(0)"
   ]
  },
  {
   "cell_type": "markdown",
   "metadata": {
    "colab_type": "text",
    "id": "o1uLbJAsoIjK"
   },
   "source": [
    "**2.3. Cleaning the data (part 2)**\n",
    "\n",
    "You might we have to **rename** a couple columns. How do you do this? The clue's pretty bold..."
   ]
  },
  {
   "cell_type": "code",
   "execution_count": 117,
   "metadata": {
    "colab": {},
    "colab_type": "code",
    "id": "GKkmn1AnoVZS",
    "scrolled": true
   },
   "outputs": [
    {
     "data": {
      "text/html": [
       "<div>\n",
       "<style scoped>\n",
       "    .dataframe tbody tr th:only-of-type {\n",
       "        vertical-align: middle;\n",
       "    }\n",
       "\n",
       "    .dataframe tbody tr th {\n",
       "        vertical-align: top;\n",
       "    }\n",
       "\n",
       "    .dataframe thead th {\n",
       "        text-align: right;\n",
       "    }\n",
       "</style>\n",
       "<table border=\"1\" class=\"dataframe\">\n",
       "  <thead>\n",
       "    <tr style=\"text-align: right;\">\n",
       "      <th></th>\n",
       "      <th>London_Borough</th>\n",
       "      <th>ID</th>\n",
       "      <th>1995-01-01 00:00:00</th>\n",
       "      <th>1995-02-01 00:00:00</th>\n",
       "      <th>1995-03-01 00:00:00</th>\n",
       "      <th>1995-04-01 00:00:00</th>\n",
       "      <th>1995-05-01 00:00:00</th>\n",
       "      <th>1995-06-01 00:00:00</th>\n",
       "      <th>1995-07-01 00:00:00</th>\n",
       "      <th>1995-08-01 00:00:00</th>\n",
       "      <th>...</th>\n",
       "      <th>2022-04-01 00:00:00</th>\n",
       "      <th>2022-05-01 00:00:00</th>\n",
       "      <th>2022-06-01 00:00:00</th>\n",
       "      <th>2022-07-01 00:00:00</th>\n",
       "      <th>2022-08-01 00:00:00</th>\n",
       "      <th>2022-09-01 00:00:00</th>\n",
       "      <th>2022-10-01 00:00:00</th>\n",
       "      <th>2022-11-01 00:00:00</th>\n",
       "      <th>2022-12-01 00:00:00</th>\n",
       "      <th>2023-01-01 00:00:00</th>\n",
       "    </tr>\n",
       "  </thead>\n",
       "  <tbody>\n",
       "    <tr>\n",
       "      <th>1</th>\n",
       "      <td>City of London</td>\n",
       "      <td>E09000001</td>\n",
       "      <td>91448.98487</td>\n",
       "      <td>82202.77314</td>\n",
       "      <td>79120.70256</td>\n",
       "      <td>77101.20804</td>\n",
       "      <td>84409.14932</td>\n",
       "      <td>94900.51244</td>\n",
       "      <td>110128.0423</td>\n",
       "      <td>112329.4376</td>\n",
       "      <td>...</td>\n",
       "      <td>813979.74214</td>\n",
       "      <td>797892.55047</td>\n",
       "      <td>821514.79383</td>\n",
       "      <td>806856.05306</td>\n",
       "      <td>834332.03537</td>\n",
       "      <td>830627.92842</td>\n",
       "      <td>885696.33847</td>\n",
       "      <td>954661.97133</td>\n",
       "      <td>953204.66901</td>\n",
       "      <td>885406.47515</td>\n",
       "    </tr>\n",
       "    <tr>\n",
       "      <th>2</th>\n",
       "      <td>Barking &amp; Dagenham</td>\n",
       "      <td>E09000002</td>\n",
       "      <td>50460.2266</td>\n",
       "      <td>51085.77983</td>\n",
       "      <td>51268.96956</td>\n",
       "      <td>53133.50526</td>\n",
       "      <td>53042.24852</td>\n",
       "      <td>53700.34831</td>\n",
       "      <td>52113.12157</td>\n",
       "      <td>52232.19868</td>\n",
       "      <td>...</td>\n",
       "      <td>332604.43094</td>\n",
       "      <td>335021.08059</td>\n",
       "      <td>344835.81396</td>\n",
       "      <td>348109.0198</td>\n",
       "      <td>349807.27867</td>\n",
       "      <td>348544.55308</td>\n",
       "      <td>353195.14125</td>\n",
       "      <td>357675.7384</td>\n",
       "      <td>359579.90996</td>\n",
       "      <td>353635.45461</td>\n",
       "    </tr>\n",
       "    <tr>\n",
       "      <th>3</th>\n",
       "      <td>Barnet</td>\n",
       "      <td>E09000003</td>\n",
       "      <td>93284.51832</td>\n",
       "      <td>93190.16963</td>\n",
       "      <td>92247.52435</td>\n",
       "      <td>90762.87492</td>\n",
       "      <td>90258.00033</td>\n",
       "      <td>90107.23471</td>\n",
       "      <td>91441.24768</td>\n",
       "      <td>92361.31512</td>\n",
       "      <td>...</td>\n",
       "      <td>579950.33189</td>\n",
       "      <td>584662.31887</td>\n",
       "      <td>591029.86082</td>\n",
       "      <td>593474.16293</td>\n",
       "      <td>602160.5051</td>\n",
       "      <td>604970.15477</td>\n",
       "      <td>598727.6565</td>\n",
       "      <td>589432.211</td>\n",
       "      <td>591520.97288</td>\n",
       "      <td>594529.67878</td>\n",
       "    </tr>\n",
       "    <tr>\n",
       "      <th>4</th>\n",
       "      <td>Bexley</td>\n",
       "      <td>E09000004</td>\n",
       "      <td>64958.09036</td>\n",
       "      <td>64787.92069</td>\n",
       "      <td>64367.49344</td>\n",
       "      <td>64277.66881</td>\n",
       "      <td>63997.13588</td>\n",
       "      <td>64252.32335</td>\n",
       "      <td>63722.70055</td>\n",
       "      <td>64432.60005</td>\n",
       "      <td>...</td>\n",
       "      <td>384327.79155</td>\n",
       "      <td>386009.08336</td>\n",
       "      <td>389711.51594</td>\n",
       "      <td>395133.58979</td>\n",
       "      <td>400870.79852</td>\n",
       "      <td>402778.1912</td>\n",
       "      <td>407103.40353</td>\n",
       "      <td>406588.79277</td>\n",
       "      <td>410458.95974</td>\n",
       "      <td>401801.51546</td>\n",
       "    </tr>\n",
       "    <tr>\n",
       "      <th>5</th>\n",
       "      <td>Brent</td>\n",
       "      <td>E09000005</td>\n",
       "      <td>71306.56698</td>\n",
       "      <td>72022.26197</td>\n",
       "      <td>72015.76274</td>\n",
       "      <td>72965.63094</td>\n",
       "      <td>73704.04743</td>\n",
       "      <td>74310.48167</td>\n",
       "      <td>74127.03788</td>\n",
       "      <td>73547.0411</td>\n",
       "      <td>...</td>\n",
       "      <td>518862.05779</td>\n",
       "      <td>528460.43896</td>\n",
       "      <td>531851.10266</td>\n",
       "      <td>548766.79416</td>\n",
       "      <td>559694.43572</td>\n",
       "      <td>579715.65953</td>\n",
       "      <td>576500.99942</td>\n",
       "      <td>570808.32592</td>\n",
       "      <td>563864.18263</td>\n",
       "      <td>558238.93628</td>\n",
       "    </tr>\n",
       "  </tbody>\n",
       "</table>\n",
       "<p>5 rows × 339 columns</p>\n",
       "</div>"
      ],
      "text/plain": [
       "0      London_Borough         ID 1995-01-01 00:00:00 1995-02-01 00:00:00  \\\n",
       "1      City of London  E09000001         91448.98487         82202.77314   \n",
       "2  Barking & Dagenham  E09000002          50460.2266         51085.77983   \n",
       "3              Barnet  E09000003         93284.51832         93190.16963   \n",
       "4              Bexley  E09000004         64958.09036         64787.92069   \n",
       "5               Brent  E09000005         71306.56698         72022.26197   \n",
       "\n",
       "0 1995-03-01 00:00:00 1995-04-01 00:00:00 1995-05-01 00:00:00  \\\n",
       "1         79120.70256         77101.20804         84409.14932   \n",
       "2         51268.96956         53133.50526         53042.24852   \n",
       "3         92247.52435         90762.87492         90258.00033   \n",
       "4         64367.49344         64277.66881         63997.13588   \n",
       "5         72015.76274         72965.63094         73704.04743   \n",
       "\n",
       "0 1995-06-01 00:00:00 1995-07-01 00:00:00 1995-08-01 00:00:00  ...  \\\n",
       "1         94900.51244         110128.0423         112329.4376  ...   \n",
       "2         53700.34831         52113.12157         52232.19868  ...   \n",
       "3         90107.23471         91441.24768         92361.31512  ...   \n",
       "4         64252.32335         63722.70055         64432.60005  ...   \n",
       "5         74310.48167         74127.03788          73547.0411  ...   \n",
       "\n",
       "0 2022-04-01 00:00:00 2022-05-01 00:00:00 2022-06-01 00:00:00  \\\n",
       "1        813979.74214        797892.55047        821514.79383   \n",
       "2        332604.43094        335021.08059        344835.81396   \n",
       "3        579950.33189        584662.31887        591029.86082   \n",
       "4        384327.79155        386009.08336        389711.51594   \n",
       "5        518862.05779        528460.43896        531851.10266   \n",
       "\n",
       "0 2022-07-01 00:00:00 2022-08-01 00:00:00 2022-09-01 00:00:00  \\\n",
       "1        806856.05306        834332.03537        830627.92842   \n",
       "2         348109.0198        349807.27867        348544.55308   \n",
       "3        593474.16293         602160.5051        604970.15477   \n",
       "4        395133.58979        400870.79852         402778.1912   \n",
       "5        548766.79416        559694.43572        579715.65953   \n",
       "\n",
       "0 2022-10-01 00:00:00 2022-11-01 00:00:00 2022-12-01 00:00:00  \\\n",
       "1        885696.33847        954661.97133        953204.66901   \n",
       "2        353195.14125         357675.7384        359579.90996   \n",
       "3         598727.6565          589432.211        591520.97288   \n",
       "4        407103.40353        406588.79277        410458.95974   \n",
       "5        576500.99942        570808.32592        563864.18263   \n",
       "\n",
       "0 2023-01-01 00:00:00  \n",
       "1        885406.47515  \n",
       "2        353635.45461  \n",
       "3        594529.67878  \n",
       "4        401801.51546  \n",
       "5        558238.93628  \n",
       "\n",
       "[5 rows x 339 columns]"
      ]
     },
     "execution_count": 117,
     "metadata": {},
     "output_type": "execute_result"
    }
   ],
   "source": [
    "properties_S.rename(columns = {'Unnamed: 0':'London_Borough', pd.NaT: 'ID'},inplace=True)\n",
    "properties_S.head()\n"
   ]
  },
  {
   "cell_type": "markdown",
   "metadata": {
    "colab_type": "text",
    "id": "jy8BzXHmoWEw"
   },
   "source": [
    "**2.4.Transforming the data**\n",
    "\n",
    "Remember what Wes McKinney said about tidy data? \n",
    "\n",
    "You might need to **melt** your DataFrame here. "
   ]
  },
  {
   "cell_type": "code",
   "execution_count": 118,
   "metadata": {
    "colab": {},
    "colab_type": "code",
    "id": "S2wM0qLuo2Zt"
   },
   "outputs": [],
   "source": [
    "properties_melted = pd.melt(properties_S, id_vars = ['London_Borough','ID'], var_name = 'Month', value_name = 'Average_Prices')"
   ]
  },
  {
   "cell_type": "markdown",
   "metadata": {
    "colab_type": "text",
    "id": "7kIsgAo7o3mf"
   },
   "source": [
    "Remember to make sure your column data types are all correct. Average prices, for example, should be floating point numbers... "
   ]
  },
  {
   "cell_type": "code",
   "execution_count": 129,
   "metadata": {
    "colab": {},
    "colab_type": "code",
    "id": "ZcR4IHbcpOaq"
   },
   "outputs": [
    {
     "data": {
      "text/plain": [
       "London_Borough    16176\n",
       "ID                15165\n",
       "Month             16176\n",
       "Average_Prices    15165\n",
       "dtype: int64"
      ]
     },
     "execution_count": 129,
     "metadata": {},
     "output_type": "execute_result"
    }
   ],
   "source": [
    "properties_melted['Average_Prices'] = pd.to_numeric(properties_melted['Average_Prices'])\n",
    "properties_melted.count()"
   ]
  },
  {
   "cell_type": "markdown",
   "metadata": {
    "colab_type": "text",
    "id": "knLUXHLypOtw"
   },
   "source": [
    "**2.5. Cleaning the data (part 3)**\n",
    "\n",
    "Do we have an equal number of observations in the ID, Average Price, Month, and London Borough columns? Remember that there are only 32 London Boroughs. How many entries do you have in that column? \n",
    "\n",
    "Check out the contents of the London Borough column, and if you find null values, get rid of them however you see fit. "
   ]
  },
  {
   "cell_type": "code",
   "execution_count": 177,
   "metadata": {
    "colab": {},
    "colab_type": "code",
    "id": "BnvTW5a3p0fC"
   },
   "outputs": [],
   "source": [
    "clean_properties = properties_melted.dropna()\n",
    "clean_properties.count()\n",
    "nonBoroughs = ['Inner London', 'Outer London', 'NORTH EAST', 'NORTH WEST', 'YORKS & THE HUMBER', \n",
    "               'EAST MIDLANDS', 'WEST MIDLANDS', 'EAST OF ENGLAND', 'LONDON', 'SOUTH EAST', \n",
    "              'SOUTH WEST', 'England']\n",
    "df = clean_properties[-clean_properties.London_Borough.isin(nonBoroughs)]\n"
   ]
  },
  {
   "cell_type": "markdown",
   "metadata": {
    "colab_type": "text",
    "id": "PGEx6mJsp6dG"
   },
   "source": [
    "**2.6. Visualizing the data**\n",
    "\n",
    "To visualize the data, why not subset on a particular London Borough? Maybe do a line plot of Month against Average Price?"
   ]
  },
  {
   "cell_type": "code",
   "execution_count": 175,
   "metadata": {
    "colab": {},
    "colab_type": "code",
    "id": "nAg5pT9cqHAR",
    "scrolled": true
   },
   "outputs": [
    {
     "data": {
      "text/plain": [
       "<AxesSubplot:xlabel='Month', ylabel='Price'>"
      ]
     },
     "execution_count": 175,
     "metadata": {},
     "output_type": "execute_result"
    },
    {
     "data": {
      "image/png": "[encoded data removed]",
      "text/plain": [
       "<Figure size 640x480 with 1 Axes>"
      ]
     },
     "metadata": {},
     "output_type": "display_data"
    }
   ],
   "source": [
    "brent_data = df[df['London_Borough']=='Brent']\n",
    "brent_data.plot(kind = 'line', x = 'Month', y = 'Average_Prices', ylabel='Price')\n"
   ]
  },
  {
   "cell_type": "markdown",
   "metadata": {
    "colab_type": "text",
    "id": "aWTPqSJeqHnC"
   },
   "source": [
    "To limit the number of data points you have, you might want to extract the year from every month value your *Month* column. \n",
    "\n",
    "To this end, you *could* apply a ***lambda function***. Your logic could work as follows:\n",
    "1. look through the `Month` column\n",
    "2. extract the year from each individual value in that column \n",
    "3. store that corresponding year as separate column. \n",
    "\n",
    "Whether you go ahead with this is up to you. Just so long as you answer our initial brief: which boroughs of London have seen the greatest house price increase, on average, over the past two decades? "
   ]
  },
  {
   "cell_type": "code",
   "execution_count": 191,
   "metadata": {
    "colab": {},
    "colab_type": "code",
    "id": "e0DF92cyqnu8",
    "scrolled": true
   },
   "outputs": [
    {
     "name": "stderr",
     "output_type": "stream",
     "text": [
      "C:\\Users\\jimmy\\AppData\\Local\\Temp\\ipykernel_20988\\1887802653.py:1: SettingWithCopyWarning: \n",
      "A value is trying to be set on a copy of a slice from a DataFrame.\n",
      "Try using .loc[row_indexer,col_indexer] = value instead\n",
      "\n",
      "See the caveats in the documentation: https://pandas.pydata.org/pandas-docs/stable/user_guide/indexing.html#returning-a-view-versus-a-copy\n",
      "  df['Year'] = df['Month'].apply(lambda d: d.year)\n"
     ]
    }
   ],
   "source": [
    "df['Year'] = df['Month'].apply(lambda d: d.year)\n",
    "dfg = df.groupby(by=['London_Borough','Year']).mean()\n",
    "dfg = dfg.reset_index()"
   ]
  },
  {
   "cell_type": "markdown",
   "metadata": {
    "colab_type": "text",
    "id": "2knuTxAEqoJ4"
   },
   "source": [
    "**3. Modeling**\n",
    "\n",
    "Consider creating a function that will calculate a ratio of house prices, comparing the price of a house in 2018 to the price in 1998.\n",
    "\n",
    "Consider calling this function create_price_ratio.\n",
    "\n",
    "You'd want this function to:\n",
    "1. Take a filter of dfg, specifically where this filter constrains the London_Borough, as an argument. For example, one admissible argument should be: dfg[dfg['London_Borough']=='Camden'].\n",
    "2. Get the Average Price for that Borough, for the years 1998 and 2018.\n",
    "4. Calculate the ratio of the Average Price for 1998 divided by the Average Price for 2018.\n",
    "5. Return that ratio.\n",
    "\n",
    "Once you've written this function, you ultimately want to use it to iterate through all the unique London_Boroughs and work out the ratio capturing the difference of house prices between 1998 and 2018.\n",
    "\n",
    "Bear in mind: you don't have to write a function like this if you don't want to. If you can solve the brief otherwise, then great! \n",
    "\n",
    "***Hint***: This section should test the skills you acquired in:\n",
    "- Python Data Science Toolbox - Part One, all modules"
   ]
  },
  {
   "cell_type": "code",
   "execution_count": 207,
   "metadata": {
    "colab": {},
    "colab_type": "code",
    "id": "cKTyr437UgDa",
    "scrolled": false
   },
   "outputs": [
    {
     "data": {
      "text/html": [
       "<div>\n",
       "<style scoped>\n",
       "    .dataframe tbody tr th:only-of-type {\n",
       "        vertical-align: middle;\n",
       "    }\n",
       "\n",
       "    .dataframe tbody tr th {\n",
       "        vertical-align: top;\n",
       "    }\n",
       "\n",
       "    .dataframe thead th {\n",
       "        text-align: right;\n",
       "    }\n",
       "</style>\n",
       "<table border=\"1\" class=\"dataframe\">\n",
       "  <thead>\n",
       "    <tr style=\"text-align: right;\">\n",
       "      <th></th>\n",
       "      <th>London_Borough</th>\n",
       "      <th>ratio</th>\n",
       "    </tr>\n",
       "  </thead>\n",
       "  <tbody>\n",
       "    <tr>\n",
       "      <th>11</th>\n",
       "      <td>Hackney</td>\n",
       "      <td>6.198286</td>\n",
       "    </tr>\n",
       "    <tr>\n",
       "      <th>30</th>\n",
       "      <td>Waltham Forest</td>\n",
       "      <td>5.834756</td>\n",
       "    </tr>\n",
       "    <tr>\n",
       "      <th>27</th>\n",
       "      <td>Southwark</td>\n",
       "      <td>5.516485</td>\n",
       "    </tr>\n",
       "    <tr>\n",
       "      <th>22</th>\n",
       "      <td>Lewisham</td>\n",
       "      <td>5.449221</td>\n",
       "    </tr>\n",
       "    <tr>\n",
       "      <th>32</th>\n",
       "      <td>Westminster</td>\n",
       "      <td>5.353565</td>\n",
       "    </tr>\n",
       "    <tr>\n",
       "      <th>24</th>\n",
       "      <td>Newham</td>\n",
       "      <td>5.305390</td>\n",
       "    </tr>\n",
       "    <tr>\n",
       "      <th>6</th>\n",
       "      <td>City of London</td>\n",
       "      <td>5.301620</td>\n",
       "    </tr>\n",
       "    <tr>\n",
       "      <th>13</th>\n",
       "      <td>Haringey</td>\n",
       "      <td>5.134625</td>\n",
       "    </tr>\n",
       "    <tr>\n",
       "      <th>19</th>\n",
       "      <td>Kensington &amp; Chelsea</td>\n",
       "      <td>5.082465</td>\n",
       "    </tr>\n",
       "    <tr>\n",
       "      <th>21</th>\n",
       "      <td>Lambeth</td>\n",
       "      <td>4.957751</td>\n",
       "    </tr>\n",
       "    <tr>\n",
       "      <th>5</th>\n",
       "      <td>Camden</td>\n",
       "      <td>4.935353</td>\n",
       "    </tr>\n",
       "    <tr>\n",
       "      <th>0</th>\n",
       "      <td>Barking &amp; Dagenham</td>\n",
       "      <td>4.896619</td>\n",
       "    </tr>\n",
       "    <tr>\n",
       "      <th>3</th>\n",
       "      <td>Brent</td>\n",
       "      <td>4.894554</td>\n",
       "    </tr>\n",
       "    <tr>\n",
       "      <th>18</th>\n",
       "      <td>Islington</td>\n",
       "      <td>4.844048</td>\n",
       "    </tr>\n",
       "    <tr>\n",
       "      <th>10</th>\n",
       "      <td>Greenwich</td>\n",
       "      <td>4.763036</td>\n",
       "    </tr>\n",
       "    <tr>\n",
       "      <th>31</th>\n",
       "      <td>Wandsworth</td>\n",
       "      <td>4.757709</td>\n",
       "    </tr>\n",
       "    <tr>\n",
       "      <th>23</th>\n",
       "      <td>Merton</td>\n",
       "      <td>4.741273</td>\n",
       "    </tr>\n",
       "    <tr>\n",
       "      <th>29</th>\n",
       "      <td>Tower Hamlets</td>\n",
       "      <td>4.626701</td>\n",
       "    </tr>\n",
       "    <tr>\n",
       "      <th>25</th>\n",
       "      <td>Redbridge</td>\n",
       "      <td>4.471182</td>\n",
       "    </tr>\n",
       "    <tr>\n",
       "      <th>1</th>\n",
       "      <td>Barnet</td>\n",
       "      <td>4.358196</td>\n",
       "    </tr>\n",
       "    <tr>\n",
       "      <th>15</th>\n",
       "      <td>Havering</td>\n",
       "      <td>4.325230</td>\n",
       "    </tr>\n",
       "    <tr>\n",
       "      <th>8</th>\n",
       "      <td>Ealing</td>\n",
       "      <td>4.311451</td>\n",
       "    </tr>\n",
       "    <tr>\n",
       "      <th>20</th>\n",
       "      <td>Kingston upon Thames</td>\n",
       "      <td>4.270550</td>\n",
       "    </tr>\n",
       "    <tr>\n",
       "      <th>9</th>\n",
       "      <td>Enfield</td>\n",
       "      <td>4.263472</td>\n",
       "    </tr>\n",
       "    <tr>\n",
       "      <th>2</th>\n",
       "      <td>Bexley</td>\n",
       "      <td>4.248977</td>\n",
       "    </tr>\n",
       "    <tr>\n",
       "      <th>7</th>\n",
       "      <td>Croydon</td>\n",
       "      <td>4.201100</td>\n",
       "    </tr>\n",
       "    <tr>\n",
       "      <th>16</th>\n",
       "      <td>Hillingdon</td>\n",
       "      <td>4.200273</td>\n",
       "    </tr>\n",
       "    <tr>\n",
       "      <th>12</th>\n",
       "      <td>Hammersmith &amp; Fulham</td>\n",
       "      <td>4.137798</td>\n",
       "    </tr>\n",
       "    <tr>\n",
       "      <th>28</th>\n",
       "      <td>Sutton</td>\n",
       "      <td>4.118523</td>\n",
       "    </tr>\n",
       "    <tr>\n",
       "      <th>4</th>\n",
       "      <td>Bromley</td>\n",
       "      <td>4.094785</td>\n",
       "    </tr>\n",
       "    <tr>\n",
       "      <th>14</th>\n",
       "      <td>Harrow</td>\n",
       "      <td>4.059196</td>\n",
       "    </tr>\n",
       "    <tr>\n",
       "      <th>26</th>\n",
       "      <td>Richmond upon Thames</td>\n",
       "      <td>4.005162</td>\n",
       "    </tr>\n",
       "    <tr>\n",
       "      <th>17</th>\n",
       "      <td>Hounslow</td>\n",
       "      <td>3.976409</td>\n",
       "    </tr>\n",
       "  </tbody>\n",
       "</table>\n",
       "</div>"
      ],
      "text/plain": [
       "          London_Borough     ratio\n",
       "11               Hackney  6.198286\n",
       "30        Waltham Forest  5.834756\n",
       "27             Southwark  5.516485\n",
       "22              Lewisham  5.449221\n",
       "32           Westminster  5.353565\n",
       "24                Newham  5.305390\n",
       "6         City of London  5.301620\n",
       "13              Haringey  5.134625\n",
       "19  Kensington & Chelsea  5.082465\n",
       "21               Lambeth  4.957751\n",
       "5                 Camden  4.935353\n",
       "0     Barking & Dagenham  4.896619\n",
       "3                  Brent  4.894554\n",
       "18             Islington  4.844048\n",
       "10             Greenwich  4.763036\n",
       "31            Wandsworth  4.757709\n",
       "23                Merton  4.741273\n",
       "29         Tower Hamlets  4.626701\n",
       "25             Redbridge  4.471182\n",
       "1                 Barnet  4.358196\n",
       "15              Havering  4.325230\n",
       "8                 Ealing  4.311451\n",
       "20  Kingston upon Thames  4.270550\n",
       "9                Enfield  4.263472\n",
       "2                 Bexley  4.248977\n",
       "7                Croydon  4.201100\n",
       "16            Hillingdon  4.200273\n",
       "12  Hammersmith & Fulham  4.137798\n",
       "28                Sutton  4.118523\n",
       "4                Bromley  4.094785\n",
       "14                Harrow  4.059196\n",
       "26  Richmond upon Thames  4.005162\n",
       "17              Hounslow  3.976409"
      ]
     },
     "execution_count": 207,
     "metadata": {},
     "output_type": "execute_result"
    }
   ],
   "source": [
    "def create_price_ratio(b):\n",
    "    Avg_Borough_1998 = float(b['Average_Prices'][b['Year']==1998])\n",
    "    Avg_Borough_2018 = float(b['Average_Prices'][b['Year']==2018])\n",
    "    return [Avg_Borough_2018/Avg_Borough_1998]\n",
    "\n",
    "#create_price_ratio(dfg[dfg['London_Borough'] == 'Westminster'])\n",
    "\n",
    "all_ratios = {}\n",
    "\n",
    "for borough in dfg['London_Borough'].unique():\n",
    "    name = dfg[dfg['London_Borough'] == borough]\n",
    "    all_ratios[borough] = create_price_ratio(name)\n",
    "    \n",
    "#print(all_ratios)\n",
    "\n",
    "df_allratios = pd.DataFrame(all_ratios)\n",
    "df_allratios_T = df_allratios.T\n",
    "df_allratios_T = df_allratios_T.reset_index()\n",
    "df_allratios_T.rename(columns = {'index':'London_Borough', 0: 'ratio'},inplace=True)\n",
    "df_allratios_T.head()\n",
    "\n",
    "#sort descending\n",
    "df_allratios_T.sort_values('ratio', ascending=False)"
   ]
  },
  {
   "cell_type": "markdown",
   "metadata": {
    "colab_type": "text",
    "id": "NzYUI7FxJpgv"
   },
   "source": [
    "### 4. Conclusion\n",
    "What can you conclude? Type out your conclusion below. \n",
    "    Hackney borough has the highest increase in house prices between 2018 and 1998 at 6.198 times price increase. Hounslow has the lowest increase over the same duration with 2018 house prices being 3.976 times more than 1998 house prices.\n",
    "\n",
    "Look back at your notebook. Think about how you might summarize what you have done, and prepare a quick presentation on it to your mentor at your next meeting. \n",
    "\n",
    "We hope you enjoyed this practical project. It should have consolidated your data hygiene and pandas skills by looking at a real-world problem involving just the kind of dataset you might encounter as a budding data scientist. Congratulations, and looking forward to seeing you at the next step in the course! "
   ]
  }
 ],
 "metadata": {
  "colab": {
   "collapsed_sections": [],
   "name": "Springboard Data Science Career Track Unit 4 Challenge - Tier 3 Complete .ipynb",
   "provenance": []
  },
  "kernelspec": {
   "display_name": "Python 3 (ipykernel)",
   "language": "python",
   "name": "python3"
  },
  "language_info": {
   "codemirror_mode": {
    "name": "ipython",
    "version": 3
   },
   "file_extension": ".py",
   "mimetype": "text/x-python",
   "name": "python",
   "nbconvert_exporter": "python",
   "pygments_lexer": "ipython3",
   "version": "3.9.13"
  }
 },
 "nbformat": 4,
 "nbformat_minor": 1
}
